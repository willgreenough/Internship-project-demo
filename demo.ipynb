{
 "cells": [
  {
   "cell_type": "markdown",
   "metadata": {},
   "source": [
    "\"\"\"Simple climate model taken from https://scied.ucar.edu/activity/very-simple-climate-model-activity\"\"\"\n",
    "This is a very simple demo investigating the most basic functions of the Basic Model Interface (BMI). The objective of the model is to predict global average temperature at some time point, given a particular rate of Annual CO2 Emissions. The goal of this demo is to demonstrate how the model can be operated using standard BMI commands\n",
    "\n",
    "First the model can be initialised"
   ]
  },
  {
   "cell_type": "code",
   "execution_count": 1,
   "metadata": {},
   "outputs": [],
   "source": [
    "from BMI_simple_climate_model import BMI_Simple_Climate_Model\n",
    "\n",
    "bmi_climate = BMI_Simple_Climate_Model()\n",
    "bmi_climate.initialize('config.YAML')\n"
   ]
  },
  {
   "cell_type": "markdown",
   "metadata": {},
   "source": [
    "We can print initial conditions"
   ]
  },
  {
   "cell_type": "code",
   "execution_count": 2,
   "metadata": {},
   "outputs": [
    {
     "name": "stdout",
     "output_type": "stream",
     "text": [
      "current_time 0.0\n",
      "time, units y\n",
      "temperature \"grid\" id:  0\n",
      "CO2 \"grid\" id:  1\n",
      "Temperature: [14.]\n",
      "CO2 Concentration: [300.]\n"
     ]
    }
   ],
   "source": [
    "import numpy as np\n",
    "print('current_time', bmi_climate.get_current_time())\n",
    "print('time, units', bmi_climate.get_time_units())\n",
    "temperature = np.zeros(1, dtype=np.float32) #initialse an array to store the temperature values\n",
    "CO2_concentration = np.zeros(1, dtype=np.float32) #initialse an array to store the cO2_concentration values\n",
    "bmi_climate.get_value('temperature', temperature)\n",
    "bmi_climate.get_value('C02_concentration', CO2_concentration)\n",
    "print('temperature \"grid\" id: ', bmi_climate.get_var_grid('temperature')) #although the model is scalr values, bmi treats this as an unstructured grid\n",
    "print('CO2 \"grid\" id: ', bmi_climate.get_var_grid('C02_concentration'))\n",
    "print('Temperature:', temperature)\n",
    "print('CO2 Concentration:', CO2_concentration)"
   ]
  },
  {
   "cell_type": "markdown",
   "metadata": {},
   "source": [
    "we can now run a timestep to see how this affects the model outputs"
   ]
  },
  {
   "cell_type": "code",
   "execution_count": 3,
   "metadata": {},
   "outputs": [
    {
     "name": "stdout",
     "output_type": "stream",
     "text": [
      "current_time 5.0\n",
      "Temperature: [14.2401285]\n",
      "CO2 Concentration: [325.]\n"
     ]
    }
   ],
   "source": [
    "bmi_climate.update()\n",
    "print('current_time', bmi_climate.get_current_time())\n",
    "bmi_climate.get_value('temperature', temperature)\n",
    "bmi_climate.get_value('C02_concentration', CO2_concentration)\n",
    "print('Temperature:', temperature)\n",
    "print('CO2 Concentration:', CO2_concentration)"
   ]
  },
  {
   "cell_type": "markdown",
   "metadata": {},
   "source": [
    "We can now terminate the model"
   ]
  },
  {
   "cell_type": "code",
   "execution_count": 4,
   "metadata": {},
   "outputs": [],
   "source": [
    "bmi_climate.finalize()"
   ]
  }
 ],
 "metadata": {
  "kernelspec": {
   "display_name": "internship",
   "language": "python",
   "name": "python3"
  },
  "language_info": {
   "codemirror_mode": {
    "name": "ipython",
    "version": 3
   },
   "file_extension": ".py",
   "mimetype": "text/x-python",
   "name": "python",
   "nbconvert_exporter": "python",
   "pygments_lexer": "ipython3",
   "version": "3.13.2"
  }
 },
 "nbformat": 4,
 "nbformat_minor": 2
}
